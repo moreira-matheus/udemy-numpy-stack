{
 "cells": [
  {
   "cell_type": "markdown",
   "metadata": {},
   "source": [
    "**Matrix products**:\n",
    "\n",
    "- Matrix multiplication.\n",
    "- Requirement: inner dimensions must match.\n",
    "- If we have $A$ of size (2,3) and $B$ of size (3,3):\n",
    "\t- We can multiply $AB$ (inner dimension is 3).\n",
    "\t- We cannot multiply $BA$.\n",
    "- Matrix multiplication definition:\n",
    "$$\n",
    "C(i,j) = \\displaystyle\\sum_{k=1}^{K} A(i,k) B(k,j)\n",
    "$$\n",
    "- The $(i,j)$-th entry of $C$ is the dot product of row $A(i,:)$ and column $B(:,j)$.\n",
    "- In Numpy, `C = A.dot(B)`.\n",
    "\n",
    "\n",
    "\n",
    "- It is very natural to want to do $C(i,j) = A(i,j) \\cdot B(i,j)$, i. e., the element-wise multiplication.\n",
    "\t- We saw that asterisk does this for vectors.\n",
    "\t- It also works with 2-D arrays, and >2-D arrays.\n",
    "\t- Both arrays must have the same size.\n",
    "- It is odd that there is no well-defined mathematical symbol for it.\n",
    "\t- Shows up a few times in deep learning: $\\otimes$ or $\\odot$"
   ]
  },
  {
   "cell_type": "code",
   "execution_count": 1,
   "metadata": {},
   "outputs": [],
   "source": [
    "import numpy as np"
   ]
  },
  {
   "cell_type": "code",
   "execution_count": 2,
   "metadata": {},
   "outputs": [],
   "source": [
    "A = np.array([[1,2],[3,4]])"
   ]
  },
  {
   "cell_type": "code",
   "execution_count": 3,
   "metadata": {},
   "outputs": [
    {
     "data": {
      "text/plain": [
       "array([[-2. ,  1. ],\n",
       "       [ 1.5, -0.5]])"
      ]
     },
     "execution_count": 3,
     "metadata": {},
     "output_type": "execute_result"
    }
   ],
   "source": [
    "Ainv = np.linalg.inv(A)\n",
    "Ainv"
   ]
  },
  {
   "cell_type": "code",
   "execution_count": 4,
   "metadata": {},
   "outputs": [
    {
     "data": {
      "text/plain": [
       "array([[1.0000000e+00, 4.4408921e-16],\n",
       "       [0.0000000e+00, 1.0000000e+00]])"
      ]
     },
     "execution_count": 4,
     "metadata": {},
     "output_type": "execute_result"
    }
   ],
   "source": [
    "Ainv.dot(A)"
   ]
  },
  {
   "cell_type": "code",
   "execution_count": 5,
   "metadata": {},
   "outputs": [
    {
     "data": {
      "text/plain": [
       "array([[1.00000000e+00, 1.11022302e-16],\n",
       "       [0.00000000e+00, 1.00000000e+00]])"
      ]
     },
     "execution_count": 5,
     "metadata": {},
     "output_type": "execute_result"
    }
   ],
   "source": [
    "A.dot(Ainv)"
   ]
  },
  {
   "cell_type": "code",
   "execution_count": 6,
   "metadata": {},
   "outputs": [
    {
     "data": {
      "text/plain": [
       "-2.0000000000000004"
      ]
     },
     "execution_count": 6,
     "metadata": {},
     "output_type": "execute_result"
    }
   ],
   "source": [
    "np.linalg.det(A)"
   ]
  },
  {
   "cell_type": "code",
   "execution_count": 7,
   "metadata": {},
   "outputs": [
    {
     "data": {
      "text/plain": [
       "array([1, 4])"
      ]
     },
     "execution_count": 7,
     "metadata": {},
     "output_type": "execute_result"
    }
   ],
   "source": [
    "np.diag(A)"
   ]
  },
  {
   "cell_type": "code",
   "execution_count": 8,
   "metadata": {},
   "outputs": [
    {
     "data": {
      "text/plain": [
       "array([[1, 0],\n",
       "       [0, 2]])"
      ]
     },
     "execution_count": 8,
     "metadata": {},
     "output_type": "execute_result"
    }
   ],
   "source": [
    "np.diag([1,2])"
   ]
  },
  {
   "cell_type": "markdown",
   "metadata": {},
   "source": [
    "**Outer/Inner product**:\n",
    "\n",
    "- Outer product: $C(i,j) = A(i) B(j)$\n",
    "\t- Ex.: $\\textrm{Cov}(X,Y) = \\textrm{E}\\big[(X-\\textrm{E}[X])(Y-\\textrm{E}[Y])^T\\big] \\approx \\displaystyle\\frac{1}{N-1}\\sum_{n=1}^N (x_n - \\bar x)(y_n - \\bar y)$.\n",
    "    - More [here](https://en.wikipedia.org/wiki/Outer_product).\n",
    "- Inner product: $\\displaystyle\\sum_i A(i)B(i)$.\n",
    "\t- Same as dot product."
   ]
  },
  {
   "cell_type": "code",
   "execution_count": 9,
   "metadata": {},
   "outputs": [],
   "source": [
    "a = np.array([1,2])\n",
    "b = np.array([3,4])"
   ]
  },
  {
   "cell_type": "code",
   "execution_count": 10,
   "metadata": {},
   "outputs": [
    {
     "data": {
      "text/plain": [
       "array([[3, 4],\n",
       "       [6, 8]])"
      ]
     },
     "execution_count": 10,
     "metadata": {},
     "output_type": "execute_result"
    }
   ],
   "source": [
    "np.outer(a,b)"
   ]
  },
  {
   "cell_type": "code",
   "execution_count": 11,
   "metadata": {},
   "outputs": [
    {
     "data": {
      "text/plain": [
       "11"
      ]
     },
     "execution_count": 11,
     "metadata": {},
     "output_type": "execute_result"
    }
   ],
   "source": [
    "np.inner(a,b)"
   ]
  },
  {
   "cell_type": "code",
   "execution_count": 12,
   "metadata": {},
   "outputs": [
    {
     "data": {
      "text/plain": [
       "True"
      ]
     },
     "execution_count": 12,
     "metadata": {},
     "output_type": "execute_result"
    }
   ],
   "source": [
    "np.inner(a,b) == a.dot(b)"
   ]
  },
  {
   "cell_type": "code",
   "execution_count": 14,
   "metadata": {},
   "outputs": [
    {
     "data": {
      "text/plain": [
       "5"
      ]
     },
     "execution_count": 14,
     "metadata": {},
     "output_type": "execute_result"
    }
   ],
   "source": [
    "np.diag(A).sum() # trace of a matrix"
   ]
  },
  {
   "cell_type": "code",
   "execution_count": 15,
   "metadata": {},
   "outputs": [
    {
     "data": {
      "text/plain": [
       "5"
      ]
     },
     "execution_count": 15,
     "metadata": {},
     "output_type": "execute_result"
    }
   ],
   "source": [
    "np.trace(A)"
   ]
  },
  {
   "cell_type": "markdown",
   "metadata": {},
   "source": [
    "**Eigenvalues & eigenvectors**:\n",
    "\n",
    "- `eigenvals, eigenvecs = np.linalg.eig(C)`\n",
    "- `eigenvals, eigenvecs = np.linalg.eigh(C)`\n",
    "\t- For <u>symmetric</u> and Hermitian matrices.\n",
    "\t- Symmetric means $A = A^T$.\n",
    "\t- Hermitian means $A = A^H$ ($A^H$ is the conjugate transpose of $A$).\n",
    "\t\t- More [here](https://en.wikipedia.org/wiki/Conjugate_transpose)."
   ]
  },
  {
   "cell_type": "code",
   "execution_count": 16,
   "metadata": {},
   "outputs": [],
   "source": [
    "X = np.random.randn(100,3) # 100 samples, 3 features"
   ]
  },
  {
   "cell_type": "code",
   "execution_count": 18,
   "metadata": {},
   "outputs": [
    {
     "data": {
      "text/plain": [
       "array([[0.95150313, 0.15249746, 0.13819883],\n",
       "       [0.15249746, 1.22166483, 0.04738017],\n",
       "       [0.13819883, 0.04738017, 1.11287563]])"
      ]
     },
     "execution_count": 18,
     "metadata": {},
     "output_type": "execute_result"
    }
   ],
   "source": [
    "cov = np.cov(X.T)\n",
    "cov"
   ]
  },
  {
   "cell_type": "code",
   "execution_count": 19,
   "metadata": {},
   "outputs": [
    {
     "data": {
      "text/plain": [
       "(array([0.83794381, 1.10836113, 1.33973865]),\n",
       " array([[ 0.87230706,  0.16644393, -0.45975734],\n",
       "        [-0.29888875, -0.56264191, -0.77077856],\n",
       "        [-0.38697016,  0.80977188, -0.4410483 ]]))"
      ]
     },
     "execution_count": 19,
     "metadata": {},
     "output_type": "execute_result"
    }
   ],
   "source": [
    "np.linalg.eigh(cov) # covariance matrix is symmetric"
   ]
  },
  {
   "cell_type": "code",
   "execution_count": 20,
   "metadata": {},
   "outputs": [
    {
     "data": {
      "text/plain": [
       "(array([0.83794381, 1.33973865, 1.10836113]),\n",
       " array([[-0.87230706,  0.45975734,  0.16644393],\n",
       "        [ 0.29888875,  0.77077856, -0.56264191],\n",
       "        [ 0.38697016,  0.4410483 ,  0.80977188]]))"
      ]
     },
     "execution_count": 20,
     "metadata": {},
     "output_type": "execute_result"
    }
   ],
   "source": [
    "np.linalg.eig(cov)"
   ]
  },
  {
   "cell_type": "code",
   "execution_count": null,
   "metadata": {},
   "outputs": [],
   "source": []
  }
 ],
 "metadata": {
  "kernelspec": {
   "display_name": "Python 3",
   "language": "python",
   "name": "python3"
  },
  "language_info": {
   "codemirror_mode": {
    "name": "ipython",
    "version": 3
   },
   "file_extension": ".py",
   "mimetype": "text/x-python",
   "name": "python",
   "nbconvert_exporter": "python",
   "pygments_lexer": "ipython3",
   "version": "3.7.3"
  }
 },
 "nbformat": 4,
 "nbformat_minor": 2
}
